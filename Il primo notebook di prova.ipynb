{
 "cells": [
  {
   "cell_type": "markdown",
   "metadata": {},
   "source": [
    "# Inizio \n",
    "<a id='inizio'></a>"
   ]
  },
  {
   "cell_type": "code",
   "execution_count": 1,
   "metadata": {},
   "outputs": [
    {
     "name": "stdout",
     "output_type": "stream",
     "text": [
      "Antonio\n"
     ]
    }
   ],
   "source": [
    "print(\"Antonio\")"
   ]
  },
  {
   "cell_type": "markdown",
   "metadata": {},
   "source": [
    "Questa impostazione è il markdown (lo setti in alto sul menu a discesa dove è scritto code di defalut che sta per code). \n",
    "E' molto utile per spiegare per esempio a cosa serve il codice (occhio non cosa FA il codice, per quello usi i soliti commenti di Python preceduti per esempio da #, o con i ''' per i multilinea)"
   ]
  },
  {
   "cell_type": "markdown",
   "metadata": {},
   "source": [
    "# così creo un intestazione"
   ]
  },
  {
   "cell_type": "markdown",
   "metadata": {},
   "source": [
    "## se metto più cancelletti riduco la dimensione dell'intestazione"
   ]
  },
  {
   "cell_type": "markdown",
   "metadata": {},
   "source": [
    "### e così via fino a 5 cancelletti, più giù di lì non vai"
   ]
  },
  {
   "cell_type": "markdown",
   "metadata": {},
   "source": [
    "*scrivi in corsivo*  **scrivi in grassetto**"
   ]
  },
  {
   "cell_type": "markdown",
   "metadata": {},
   "source": [
    "<font color=\"green\"> testo colorato"
   ]
  },
  {
   "cell_type": "markdown",
   "metadata": {},
   "source": [
    "andare a capo <br> si fa così"
   ]
  },
  {
   "cell_type": "markdown",
   "metadata": {},
   "source": [
    "> Testo indentato"
   ]
  },
  {
   "cell_type": "markdown",
   "metadata": {},
   "source": [
    "Per creare elenchi:\n",
    "* Elemento 1\n",
    "* Elmento 2\n",
    "* Elemento 3"
   ]
  },
  {
   "cell_type": "markdown",
   "metadata": {},
   "source": [
    "Per creare elenchi nidificati fai un tab \n",
    "* elemento 1\n",
    "    * elemento 1.1"
   ]
  },
  {
   "cell_type": "markdown",
   "metadata": {},
   "source": [
    "Per creare liste numerate:\n",
    "1. primo elemento \n",
    "3. secondo elemento\n",
    "\n",
    "come vedi (se apri questa linea) non serve che siano giusti i numeri li mette in ordine da solo"
   ]
  },
  {
   "cell_type": "markdown",
   "metadata": {},
   "source": [
    "**Inserire link** <br>\n",
    "link esterni:\n",
    "[Vai al sito del tutorial che hai seguito per fare questo notebook](https://www.youtube.com/watch?v=KDA6MKh03bw) <br>\n",
    "link interni: (devi aver meso l'id alla sezionedove vuoi rimandare con questo link e poi metterlo tra parentesi come fosse un link esterno: [vai all'inizio del documento](#inizo)"
   ]
  },
  {
   "cell_type": "markdown",
   "metadata": {},
   "source": [
    "*** inserire immagine nel notebook*** <br> ![immagine di prova](Desktop/Provvisorio/a.jpg)"
   ]
  },
  {
   "cell_type": "markdown",
   "metadata": {},
   "source": [
    "*** inserire immagine come link*** (togli il punto interrogativo iniziale) <br> [immagine di prova](Desktop/Provvisorio/a.jpg)"
   ]
  },
  {
   "cell_type": "markdown",
   "metadata": {},
   "source": [
    "altro metodo per inserire immagini con più controllo rispetto al precedente andando a modificarne le dimensioni: tag html <br>\n",
    "<img src=\"Desktop/Provvisorio/a.jpg\" alt=\"immagine di prova\" height=\"50\" width=\"50\"/>"
   ]
  },
  {
   "cell_type": "markdown",
   "metadata": {},
   "source": [
    "*** inserire video: si usa un tag video*** <br> \n",
    "<video width=\"320\" height=\"240\" src=\"Desktop\\filippo\\18 valerio/valerio.mp4\" controls />"
   ]
  },
  {
   "cell_type": "markdown",
   "metadata": {},
   "source": [
    "***inserire audio con tag audio*** <br> <audio src=\"Desktop\\filippo\\Colore\\musica\\Brunori S.A.S\\vol. 1/6Brunori Sas - Guardia 82.mp3\" controls/>"
   ]
  },
  {
   "cell_type": "code",
   "execution_count": null,
   "metadata": {},
   "outputs": [],
   "source": []
  }
 ],
 "metadata": {
  "kernelspec": {
   "display_name": "Python 3",
   "language": "python",
   "name": "python3"
  },
  "language_info": {
   "codemirror_mode": {
    "name": "ipython",
    "version": 3
   },
   "file_extension": ".py",
   "mimetype": "text/x-python",
   "name": "python",
   "nbconvert_exporter": "python",
   "pygments_lexer": "ipython3",
   "version": "3.7.4"
  }
 },
 "nbformat": 4,
 "nbformat_minor": 2
}
